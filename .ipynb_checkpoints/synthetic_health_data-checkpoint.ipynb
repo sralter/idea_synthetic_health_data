{
 "cells": [
  {
   "cell_type": "markdown",
   "id": "adee8013-cfe0-4691-8d79-137f437d34b5",
   "metadata": {},
   "source": [
    "# Synthetic Health Data"
   ]
  },
  {
   "cell_type": "markdown",
   "id": "e673d10d-c5d0-47e6-b0f3-e37311a5cb8a",
   "metadata": {},
   "source": [
    "Experimenting with generating random data to create a proof-of-concept model that can suggest the best candidate birth control pill for women."
   ]
  },
  {
   "cell_type": "code",
   "execution_count": null,
   "id": "650abd8f-fdc5-4504-82be-9b8420df9458",
   "metadata": {},
   "outputs": [],
   "source": []
  }
 ],
 "metadata": {
  "kernelspec": {
   "display_name": "bigdataml",
   "language": "python",
   "name": "bigdataml"
  },
  "language_info": {
   "codemirror_mode": {
    "name": "ipython",
    "version": 3
   },
   "file_extension": ".py",
   "mimetype": "text/x-python",
   "name": "python",
   "nbconvert_exporter": "python",
   "pygments_lexer": "ipython3",
   "version": "3.8.16"
  }
 },
 "nbformat": 4,
 "nbformat_minor": 5
}
